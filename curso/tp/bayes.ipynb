{
 "cells": [
  {
   "cell_type": "code",
   "execution_count": null,
   "metadata": {},
   "outputs": [],
   "source": [
    "import numpy as np\n",
    "import scipy.stats\n",
    "import matplotlib.pyplot as plt\n",
    "plt.rcParams['figure.figsize'] = [10, 7]"
   ]
  },
  {
   "cell_type": "code",
   "execution_count": null,
   "metadata": {},
   "outputs": [],
   "source": [
    "x = np.linspace(-5, 5, 100)"
   ]
  },
  {
   "cell_type": "code",
   "execution_count": null,
   "metadata": {},
   "outputs": [],
   "source": [
    "def likelihood(y, Hx, sigma_r):\n",
    "    return scipy.stats.norm(loc=Hx, scale=sigma_r).pdf(y)\n",
    "\n",
    "def bayes(prior, lik, dx):\n",
    "    posterior = prior * lik\n",
    "    posterior /= (np.sum(posterior)*dx)\n",
    "    return posterior"
   ]
  },
  {
   "cell_type": "code",
   "execution_count": null,
   "metadata": {},
   "outputs": [],
   "source": [
    "y = 2\n",
    "sigma_r = 0.8\n",
    "H = lambda x: abs(x)\n",
    "\n",
    "prior_pdf = scipy.stats.norm(0, 1).pdf(x)\n",
    "lik = likelihood(y, H(x), sigma_r)\n",
    "posterior = bayes(prior_pdf, lik, x[1]-x[0])\n",
    "\n",
    "plt.plot(x, prior_pdf, label='prior')\n",
    "plt.plot(x, lik, label='likelihood')\n",
    "plt.plot(x, posterior, label='posterior')\n",
    "plt.plot(y, 0, 'ro', label = 'observation')\n",
    "plt.legend()"
   ]
  },
  {
   "cell_type": "code",
   "execution_count": null,
   "metadata": {},
   "outputs": [],
   "source": [
    "import ipywidgets as widgets\n",
    "from ipywidgets import interact, interact_manual\n",
    "\n",
    "@interact(y=widgets.FloatSlider(value=0, min=-4, max=4, step=0.1),\n",
    "        sigma_r=widgets.FloatSlider(value=0.5, min=0.1, max=5, step=0.1) )\n",
    "def bayes_plots(y, sigma_r):\n",
    "    \n",
    "    H = lambda x: x**2\n",
    "    \n",
    "    prior_pdf = scipy.stats.norm(0, 1).pdf(x)\n",
    "    lik = likelihood(y, H(x), sigma_r)\n",
    "    posterior = bayes(prior_pdf, lik, x[1]-x[0])\n",
    "    \n",
    "    plt.ylim(ymax=1.5)\n",
    "    plt.plot(x, prior_pdf, label='prior')\n",
    "    plt.plot(x, lik, label='likelihood')\n",
    "    plt.plot(x, posterior, label='posterior')\n",
    "    plt.plot(y, 0.015, 'ro', label = 'observation')\n",
    "    plt.legend()\n"
   ]
  },
  {
   "cell_type": "code",
   "execution_count": null,
   "metadata": {},
   "outputs": [],
   "source": [
    "@interact(alpha=widgets.FloatSlider(value=0.5, min=0.01, max=1, step=0.01))\n",
    "\n",
    "def OI_plots(alpha):\n",
    "\n",
    "    x1 = -2. # posición instrumento A\n",
    "    x0 = 0. # posición donde queremos estimar\n",
    "    x2 = np.linspace(-4.,4.,100) # posiciónes posibles para el instrumento B\n",
    "\n",
    "    d10 = abs(x1-x0) \n",
    "    d12 = abs(x1-x2)\n",
    "    d20 = abs(x2-x0)\n",
    "    rho10 = (1.+d10) * np.exp(-d10)\n",
    "    \"\"\"\n",
    "       Calculate weights for obs 1 and obs 2\n",
    "    \"\"\"\n",
    "    rho20 = (1+d20) * np.exp(-d20)\n",
    "    rho12 = (1+d12) * np.exp(-d12)\n",
    "    w1a = rho10*(1+alpha) - rho12*rho20\n",
    "    w2a = rho20*(1+alpha) - rho12*rho10\n",
    "    denom = (1+alpha)**2 - rho12*rho12\n",
    "    \n",
    "    w1 = w1a/denom # peso de la \"información\" del instrumento A\n",
    "    w2 = w2a/denom # peso de la \"información\" del instrumento B\n",
    "    \"\"\"\n",
    "       Calculate the analysis error variance\n",
    "         normalized by the background error variance\n",
    "    \"\"\"\n",
    "    var_a = 1. - ((1+alpha)*(rho10**2+rho20**2)-2*rho10*rho20*rho12)/denom\n",
    "\n",
    "    plt.ylim(ymax=1., ymin=-0.5)\n",
    "    plt.axhline(y=0, color='black', linestyle='--')\n",
    "    plt.plot(x2, var_a, label='analysis variance')\n",
    "    plt.plot(x2, w1, label='w1')\n",
    "    plt.plot(x2, w2, label='w2')\n",
    "    plt.legend()\n",
    "    \n"
   ]
  },
  {
   "cell_type": "code",
   "execution_count": null,
   "metadata": {},
   "outputs": [],
   "source": [
    "@interact(x2=widgets.FloatSlider(value=1, min=-4, max=4, step=0.1))\n",
    "def OI_plots(x2):\n",
    "\n",
    "    alpha = np.linspace(0.01, 1, 100)\n",
    "    x1 = -2. # posición instrumento A\n",
    "    x0 = 0. # posición donde queremos estimar\n",
    "    \n",
    "    d10 = abs(x1-x0) \n",
    "    d12 = abs(x1-x2)\n",
    "    d20 = abs(x2-x0)\n",
    "    rho10 = (1.+d10) * np.exp(-d10)\n",
    "    \"\"\"\n",
    "       Calculate weights for obs 1 and obs 2\n",
    "    \"\"\"\n",
    "    rho20 = (1+d20) * np.exp(-d20)\n",
    "    rho12 = (1+d12) * np.exp(-d12)\n",
    "    w1a = rho10*(1+alpha) - rho12*rho20\n",
    "    w2a = rho20*(1+alpha) - rho12*rho10\n",
    "    denom = (1+alpha)**2 - rho12*rho12\n",
    "    \n",
    "    w1 = w1a/denom # peso de la \"información\" del instrumento A\n",
    "    w2 = w2a/denom # peso de la \"información\" del instrumento B\n",
    "    \"\"\"\n",
    "       Calculate the analysis error variance\n",
    "         normalized by the background error variance\n",
    "    \"\"\"\n",
    "    var_a = 1. - ((1+alpha)*(rho10**2+rho20**2)-2*rho10*rho20*rho12)/denom\n",
    "\n",
    "    plt.ylim(ymax=1., ymin=-0.5)\n",
    "    plt.axhline(y=0, color='black', linestyle='--')\n",
    "    plt.plot(alpha, var_a, label='analysis variance')\n",
    "    plt.plot(alpha, w1, label='w1')\n",
    "    plt.plot(alpha, w2, label='w2')\n",
    "    plt.legend()\n",
    "    \n"
   ]
  }
 ],
 "metadata": {
  "kernelspec": {
   "display_name": "Python 3",
   "language": "python",
   "name": "python3"
  },
  "language_info": {
   "codemirror_mode": {
    "name": "ipython",
    "version": 3
   },
   "file_extension": ".py",
   "mimetype": "text/x-python",
   "name": "python",
   "nbconvert_exporter": "python",
   "pygments_lexer": "ipython3",
   "version": "3.6.4"
  }
 },
 "nbformat": 4,
 "nbformat_minor": 2
}
